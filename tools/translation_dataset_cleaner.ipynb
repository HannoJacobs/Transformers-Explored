{
 "cells": [
  {
   "cell_type": "code",
   "execution_count": 1,
   "metadata": {},
   "outputs": [
    {
     "name": "stdout",
     "output_type": "stream",
     "text": [
      "Read 1367869 lines from /Users/hannojacobs/Documents/Code/Transformers-Explored/Datasets/eng_afr/eng.txt\n",
      "Read 1367869 lines from /Users/hannojacobs/Documents/Code/Transformers-Explored/Datasets/eng_afr/afr.txt\n",
      "\n",
      "DataFrame created successfully:\n",
      "                                                 src  \\\n",
      "0  For the report you will be working in groups o...   \n",
      "1  Sallies shareholders are referred to the annou...   \n",
      "2  Discuss extended incontinence under the follow...   \n",
      "3  They do , however , want to know if the primar...   \n",
      "4  Glyptic art reached a peak in the Middle Assyr...   \n",
      "\n",
      "                                              target  \n",
      "0  Vir u referaat werk u in groepe saam oor 'n on...  \n",
      "1  Sallies-aandeelhouers word verwys na die aanko...  \n",
      "2  Bespreek langdurige inkontinensie onder die ho...  \n",
      "3  Hulle stel ook belang of die primêre doelwit v...  \n",
      "4  Gliptiese kuns het 'n hoogtepunt bereik tydens...  \n",
      "\n",
      "Total rows: 1367869\n"
     ]
    }
   ],
   "source": [
    "import pandas as pd\n",
    "import os\n",
    "import re\n",
    "\n",
    "# Define the directory containing the dataset\n",
    "data_dir = \"/Users/hannojacobs/Documents/Code/Transformers-Explored/Datasets/eng_afr/\"\n",
    "\n",
    "# Define file paths - Adjust these if your filenames differ\n",
    "eng_file_path = os.path.join(data_dir, \"eng.txt\")\n",
    "afr_file_path = os.path.join(data_dir, \"afr.txt\")\n",
    "\n",
    "# --- Read the data ---\n",
    "try:\n",
    "    # Read English lines, stripping leading/trailing whitespace\n",
    "    with open(eng_file_path, \"r\", encoding=\"utf-8\") as f_eng:\n",
    "        eng_lines = [line.strip() for line in f_eng]\n",
    "    print(f\"Read {len(eng_lines)} lines from {eng_file_path}\")\n",
    "\n",
    "    # Read Afrikaans lines, stripping leading/trailing whitespace\n",
    "    with open(afr_file_path, \"r\", encoding=\"utf-8\") as f_afr:\n",
    "        afr_lines = [line.strip() for line in f_afr]\n",
    "    print(f\"Read {len(afr_lines)} lines from {afr_file_path}\")\n",
    "\n",
    "    # --- Data Validation ---\n",
    "    if len(eng_lines) != len(afr_lines):\n",
    "        raise ValueError(\n",
    "            f\"Line count mismatch: English ({len(eng_lines)}) vs Afrikaans ({len(afr_lines)})\"\n",
    "        )\n",
    "    if len(eng_lines) == 0:\n",
    "        raise ValueError(\"Files are empty or could not be read properly.\")\n",
    "\n",
    "    # --- Create DataFrame ---\n",
    "    df = pd.DataFrame(\n",
    "        {\n",
    "            \"src\": eng_lines,  # Source language (English)\n",
    "            \"target\": afr_lines,  # Target language (Afrikaans)\n",
    "        }\n",
    "    )\n",
    "\n",
    "    # --- Display Info ---\n",
    "    print(\"\\nDataFrame created successfully:\")\n",
    "    print(df.head())\n",
    "    print(f\"\\nTotal rows: {len(df)}\")\n",
    "    # print(df.info()) # Uncomment for more detailed info\n",
    "\n",
    "except FileNotFoundError as e:\n",
    "    print(f\"Error: File not found. {e}\")\n",
    "    print(f\"Please ensure the files exist at the specified paths:\")\n",
    "    print(f\"- English: {os.path.abspath(eng_file_path)}\")\n",
    "    print(f\"- Afrikaans: {os.path.abspath(afr_file_path)}\")\n",
    "except ValueError as e:\n",
    "    print(f\"Error: {e}\")\n",
    "except Exception as e:\n",
    "    print(f\"An unexpected error occurred: {e}\")"
   ]
  },
  {
   "cell_type": "code",
   "execution_count": 2,
   "metadata": {},
   "outputs": [
    {
     "name": "stdout",
     "output_type": "stream",
     "text": [
      "\n",
      "After cleaning:\n",
      "\n",
      "Total rows: 1367869\n",
      "                                                 src  \\\n",
      "0  for the report you will be working in groups o...   \n",
      "1  sallies shareholders are referred to the annou...   \n",
      "2  discuss extended incontinence under the follow...   \n",
      "3  they do however want to know if the primary ob...   \n",
      "4  glyptic art reached a peak in the middle assyr...   \n",
      "\n",
      "                                              target  \n",
      "0  vir u referaat werk u in groepe saam oor n ond...  \n",
      "1  salliesaandeelhouers word verwys na die aankon...  \n",
      "2  bespreek langdurige inkontinensie onder die ho...  \n",
      "3  hulle stel ook belang of die primre doelwit va...  \n",
      "4  gliptiese kuns het n hoogtepunt bereik tydens ...  \n"
     ]
    }
   ],
   "source": [
    "def clean_text(text):\n",
    "    # Lowercase and remove all non-a-z and non-space characters\n",
    "    first = re.sub(r\"[^a-z ]\", \"\", text.lower())\n",
    "    # remove double (or more) spaces\n",
    "    second = re.sub(r\"\\s+\", \" \", first).strip()\n",
    "    return second\n",
    "\n",
    "\n",
    "df[\"src\"] = df[\"src\"].apply(clean_text)\n",
    "df[\"target\"] = df[\"target\"].apply(clean_text)\n",
    "\n",
    "print(\"\\nAfter cleaning:\")\n",
    "print(f\"\\nTotal rows: {len(df)}\")\n",
    "print(df.head())"
   ]
  },
  {
   "cell_type": "code",
   "execution_count": 3,
   "metadata": {},
   "outputs": [
    {
     "name": "stdout",
     "output_type": "stream",
     "text": [
      "\n",
      "After word limit drop cleaning:\n",
      "\n",
      "Total rows: 526648\n",
      "                                                 src  \\\n",
      "0  discuss extended incontinence under the follow...   \n",
      "1  glyptic art reached a peak in the middle assyr...   \n",
      "2                         will be discussed in class   \n",
      "3                               proceedings national   \n",
      "4                             occurrence of diseases   \n",
      "\n",
      "                                              target  \n",
      "0  bespreek langdurige inkontinensie onder die ho...  \n",
      "1  gliptiese kuns het n hoogtepunt bereik tydens ...  \n",
      "2                      sal in die klas bespreek word  \n",
      "3                              verrigtinge nasionaal  \n",
      "4                               voorkoms van siektes  \n"
     ]
    }
   ],
   "source": [
    "def count_words(text):\n",
    "    return len(text.split())\n",
    "\n",
    "\n",
    "NUM_WORDS_LIMIT = 10\n",
    "df = df[\n",
    "    (df[\"src\"].apply(count_words) <= NUM_WORDS_LIMIT)\n",
    "    & (df[\"target\"].apply(count_words) <= NUM_WORDS_LIMIT)\n",
    "].reset_index(drop=True)\n",
    "\n",
    "print(\"\\nAfter word limit drop cleaning:\")\n",
    "print(f\"\\nTotal rows: {len(df)}\")\n",
    "print(df.head())"
   ]
  },
  {
   "cell_type": "code",
   "execution_count": 4,
   "metadata": {},
   "outputs": [
    {
     "name": "stdout",
     "output_type": "stream",
     "text": [
      "\n",
      "DataFrame saved to /Users/hannojacobs/Documents/Code/Transformers-Explored/Datasets/eng_afr/eng_afr_full.csv\n"
     ]
    }
   ],
   "source": [
    "# --- Save to CSV ---\n",
    "output_csv_path = os.path.join(data_dir, \"eng_afr_full_rows.csv\")\n",
    "df.to_csv(output_csv_path, index=False, encoding=\"utf-8\")\n",
    "print(f\"\\nDataFrame saved to {output_csv_path}\")"
   ]
  },
  {
   "cell_type": "code",
   "execution_count": 5,
   "metadata": {},
   "outputs": [
    {
     "name": "stdout",
     "output_type": "stream",
     "text": [
      "Number of rows: 100\n",
      "Columns in the dataframe: Index(['src', 'target'], dtype='object')\n",
      "Saved 100 rows to /Users/hannojacobs/Documents/Code/Transformers-Explored/Datasets/eng_afr/eng_afr_100_rows.csv\n",
      "Number of rows: 1000\n",
      "Columns in the dataframe: Index(['src', 'target'], dtype='object')\n",
      "Saved 1000 rows to /Users/hannojacobs/Documents/Code/Transformers-Explored/Datasets/eng_afr/eng_afr_1000_rows.csv\n",
      "Number of rows: 10000\n",
      "Columns in the dataframe: Index(['src', 'target'], dtype='object')\n",
      "Saved 10000 rows to /Users/hannojacobs/Documents/Code/Transformers-Explored/Datasets/eng_afr/eng_afr_10000_rows.csv\n",
      "Number of rows: 100000\n",
      "Columns in the dataframe: Index(['src', 'target'], dtype='object')\n",
      "Saved 100000 rows to /Users/hannojacobs/Documents/Code/Transformers-Explored/Datasets/eng_afr/eng_afr_100000_rows.csv\n"
     ]
    }
   ],
   "source": [
    "# save short versions as well\n",
    "for HOW_MANY_TO_KEEP in [100, 1000, 10000, 100000]:\n",
    "    short_df = df.head(HOW_MANY_TO_KEEP)\n",
    "    print(f\"Number of rows: {len(short_df)}\")\n",
    "    print(f\"Columns in the dataframe: {short_df.columns}\")\n",
    "\n",
    "    output_csv_path = os.path.join(data_dir, f\"eng_afr_{HOW_MANY_TO_KEEP}_rows.csv\")\n",
    "    short_df.to_csv(output_csv_path, index=False, encoding=\"utf-8\")\n",
    "    print(f\"Saved {HOW_MANY_TO_KEEP} rows to {output_csv_path}\")"
   ]
  }
 ],
 "metadata": {
  "kernelspec": {
   "display_name": ".venv",
   "language": "python",
   "name": "python3"
  },
  "language_info": {
   "codemirror_mode": {
    "name": "ipython",
    "version": 3
   },
   "file_extension": ".py",
   "mimetype": "text/x-python",
   "name": "python",
   "nbconvert_exporter": "python",
   "pygments_lexer": "ipython3",
   "version": "3.10.15"
  }
 },
 "nbformat": 4,
 "nbformat_minor": 2
}
